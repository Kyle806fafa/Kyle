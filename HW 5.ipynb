{
 "cells": [
  {
   "cell_type": "markdown",
   "id": "68587f56",
   "metadata": {},
   "source": [
    "Q1\n",
    "\n",
    "The key factor that makes the difference between ideas that can, and cannot be examined and tested statistically is hypothesis. The \"good null hypothesis\" is the value of p, usually the bigger value of p the better the null hypothesis. The null hypothesis is one that to be tested, and the alternative hypothesis is everything else."
   ]
  },
  {
   "cell_type": "markdown",
   "id": "7daa62af",
   "metadata": {},
   "source": [
    "Q2\n",
    "\n",
    "In statistics, the concepts of \"population\" and \"sample\" are similar but different. The population is the whole group of data we want to test, but it is always too large to process for us, therefore we need a sample. Sample is a small group from the population, by working on it we can draw conclusions about properties of the population even it is not as precise as processing directly from the population. \n",
    "\n",
    "Xi are individual measurements or values from the sample. μ is the true average of the entire population, μ0 is the value we assume the population mean. In hypothesis test, we make a null hypothesis test and an alternative hypothesis test, written as H0: μ=μ0 and H1: μ≠μ1. It is obvious that we apply mean of the population here rather than the mean of sample (using μ rather than xi). Therefore, the outcomes aim to estimate the conclusion of population parameter, rather than the sample statistic!\n",
    "\n",
    "Chatgpt conclusion:\n",
    "The discussion centered on explaining statistical concepts related to population and sample data in simple terms. We clarified the difference between individual sample values (\\( x_i \\)), the sample mean (\\( \\bar{x} \\)), the true population mean (\\( \\mu \\)), and the hypothesized population mean (\\( \\mu_0 \\)). The key takeaway is that while we gather and calculate sample statistics (like \\( \\bar{x} \\)), our ultimate goal in statistical testing is to draw conclusions about the population parameter (\\( \\mu \\)).\n",
    "\n",
    "https://chatgpt.com/share/67035652-4bb4-8013-99c0-8c534efa36ec"
   ]
  },
  {
   "cell_type": "markdown",
   "id": "4d4d8b6b",
   "metadata": {},
   "source": [
    "Q3\n",
    "\n",
    "Never give up a proability of something without testing it even it's looks ridiculous."
   ]
  },
  {
   "cell_type": "markdown",
   "id": "4b21955b",
   "metadata": {},
   "source": [
    "Q4\n",
    "\n",
    "P-Value is the probability of obtaining a test statistic as extreme as what we observed, assuming that the null hypothesis is true. The null hypothesis is the assumption that we expected. Therefore, when the p-value is small, it suggests that the observed test statistic is very far from what the sampling distribution under the null hypothesis would predict, implies that the observed data is highly inconsistent with the assumption. That's why a smaller p-value makes the null hypothesis look more ridiculous. "
   ]
  },
  {
   "cell_type": "markdown",
   "id": "6e67a1f2",
   "metadata": {},
   "source": [
    "Q5\n",
    "\n",
    "p= 0.002\n",
    "\n",
    "0.01>0.002>0.001\n",
    "\n",
    "Strong evidence against the null hypothesis"
   ]
  },
  {
   "cell_type": "markdown",
   "id": "a269c838",
   "metadata": {},
   "source": [
    "Q6\n",
    "\n",
    "A small p-value does not definitively prove that the null hypothesis is false. Similiarly, it does not definitively prove that Fido is innocent or guilty using a p-value. P-value is just a statistical way to draw conclusion of a event,it leads a outcome with larger probaility, but that does not mean it reflects the truth. Thus, no matter how long or low a p-value is, it never can definitely prove one or the other."
   ]
  },
  {
   "cell_type": "markdown",
   "id": "6ebdb9ef",
   "metadata": {},
   "source": [
    "Q8"
   ]
  },
  {
   "cell_type": "markdown",
   "id": "bb2b1c2c",
   "metadata": {},
   "source": [
    "Population: Students of STA 130\n",
    "\n",
    "Sample: 80 students who do the experiment\n",
    "\n",
    "The parameter of interest: p, the proportion of all students (in the population) who can correctly identify whether the milk or tea was poured first.Under the null hypothesis, this proportion is assumed to be p=0.5, meaning students are just guessing.\n",
    " \n",
    "The observed test statistic is the proportion of students in the sample who correctly identified the pouring order. Calculated by 49/80=0.6125"
   ]
  },
  {
   "cell_type": "markdown",
   "id": "1f1945b5",
   "metadata": {},
   "source": [
    "Null hypothesis: H0=0.5\n",
    "(this means that students are just guessing randomly)\n",
    "\n",
    "Alternative hypothesis: H1>0.5\n",
    "(this means that students are better than random guessing)"
   ]
  },
  {
   "cell_type": "markdown",
   "id": "cfee15ee",
   "metadata": {},
   "source": [
    "Method:\n",
    "\n",
    "1.Sample Proportion:\n",
    "\n",
    "We observe that 49 out of 80 students correctly identified the pouring order, yielding a sample proportion \n",
    "is 0.6125.\n",
    "This proportion is used as our estimate of the population parameter p.\n",
    "\n",
    "2.Test Statistic (z-score):\n",
    "\n",
    "To determine if the sample proportion p=0.6125 is significantly different from the hypothesized population proportion p0=0.5, we calculate a z-score.\n",
    "The z-score measures how many standard errors the observed proportion is away from the hypothesized proportion under H0. It allows us to assess the probability of observing such a result (or more extreme) assuming the null hypothesis is true.\n",
    "\n",
    "3.P-Value:\n",
    "\n",
    "The p-value, derived from the z-score, indicates the probability of obtaining an observed proportion of 0.6125 or greater if the true proportion were 0.5.\n",
    "A p-value smaller than our chosen significance level (e.g.,α=0.05) suggests that the observed result is unlikely to have occurred by chance alone, leading us to reject the null hypothesis."
   ]
  },
  {
   "cell_type": "code",
   "execution_count": 1,
   "id": "16095347",
   "metadata": {},
   "outputs": [
    {
     "data": {
      "text/plain": [
       "2.0124611797498115"
      ]
     },
     "execution_count": 1,
     "metadata": {},
     "output_type": "execute_result"
    }
   ],
   "source": [
    "# Given values\n",
    "p_hat = 49 / 80  # Sample proportion\n",
    "p_0 = 0.5        # Hypothesized proportion under the null hypothesis\n",
    "n = 80           # Sample size\n",
    "\n",
    "# Calculate the standard error\n",
    "standard_error = (p_0 * (1 - p_0) / n) ** 0.5\n",
    "\n",
    "# Calculate the z-score\n",
    "z_score = (p_hat - p_0) / standard_error\n",
    "z_score"
   ]
  },
  {
   "cell_type": "code",
   "execution_count": 2,
   "id": "93f5cc10",
   "metadata": {},
   "outputs": [
    {
     "data": {
      "text/plain": [
       "0.022085672454221217"
      ]
     },
     "execution_count": 2,
     "metadata": {},
     "output_type": "execute_result"
    }
   ],
   "source": [
    "from scipy.stats import norm\n",
    "\n",
    "# Calculate the p-value for the z-score\n",
    "p_value = 1 - norm.cdf(z_score)\n",
    "p_value\n"
   ]
  },
  {
   "cell_type": "markdown",
   "id": "16f2eed7",
   "metadata": {},
   "source": [
    "Thus, we know that the p-value is 0.022...\n",
    "\n",
    "Since (0.022..) is smaller than 0.05, we reject the null hypothesis. Finally, we conclude that the STA130 students are better than random guessing at identifying whether the milk or tea was poured first."
   ]
  }
 ],
 "metadata": {
  "kernelspec": {
   "display_name": "Python 3 (ipykernel)",
   "language": "python",
   "name": "python3"
  },
  "language_info": {
   "codemirror_mode": {
    "name": "ipython",
    "version": 3
   },
   "file_extension": ".py",
   "mimetype": "text/x-python",
   "name": "python",
   "nbconvert_exporter": "python",
   "pygments_lexer": "ipython3",
   "version": "3.11.6"
  }
 },
 "nbformat": 4,
 "nbformat_minor": 5
}
