{
 "cells": [
  {
   "cell_type": "code",
   "execution_count": 1,
   "id": "3ec989be",
   "metadata": {},
   "outputs": [],
   "source": [
    "# Q1"
   ]
  },
  {
   "cell_type": "markdown",
   "id": "b9dca745",
   "metadata": {},
   "source": [
    "The standard error of mean can be calculated from the Standard deviation by using Bootstrapping. The standard deviation has smaller range and less accuracy compared with standard error as it only describes variability within a single sample while standard error estimates the variability of multiples of a population."
   ]
  },
  {
   "cell_type": "markdown",
   "id": "425447bb",
   "metadata": {},
   "source": [
    "Chatbot summary:\n",
    "\n",
    "Standard Deviation (SD): Measures the variability or dispersion of individual data points around the mean. A higher SD indicates more spread in the data.\n",
    "\n",
    "Standard Error of the Mean (SEM): Estimates how much the sample mean would vary from the true population mean if multiple samples were taken. It is calculated as the SD divided by the square root of the sample size. A smaller SEM indicates a more reliable estimate of the population mean.\n",
    "\n",
    "Key Distinctions:\n",
    "\n",
    "SD relates to the variability of individual observations, while SEM relates to the precision of the sample mean as an estimate of the population mean.\n",
    "SD is used for summarizing distributions, while SEM is used in inferential statistics, especially for hypothesis testing and confidence intervals.\n",
    "If you need any further details or clarifications, feel free to ask!\n",
    "\n",
    "https://chatgpt.com/share/66fdc9f9-0258-8013-acf9-8f2ffb558fa9"
   ]
  },
  {
   "cell_type": "code",
   "execution_count": 2,
   "id": "ad6523c9",
   "metadata": {},
   "outputs": [],
   "source": [
    "# Q2"
   ]
  },
  {
   "cell_type": "markdown",
   "id": "89cd2518",
   "metadata": {},
   "source": [
    "Step by step process:\n",
    "\n",
    "1.Bootstrapping:\n",
    "\n",
    "2.For each bootstrap sample, calculate the sample mean\n",
    "Store the means from all the bootstrap samples. This will create a distribution of bootstrap sample means.\n",
    "\n",
    "3.Determine the Standard Error of the Mean (SEM):\n",
    "\n",
    "Calculate the standard deviation of the bootstrap sample means. This value represents the standard error of the mean for your bootstrap distribution.\n",
    "\n",
    "4.Calculate the Confidence Interval:\n",
    "To create a 95% confidence interval, you can use the percentile method:\n",
    "    Sort the bootstrapped sample means.\n",
    "    Identify the 2.5th percentile and the 97.5th percentile of the sorted bootstrap means. These values will serve as the lower and upper bounds of your confidence interval, respectively."
   ]
  },
  {
   "cell_type": "markdown",
   "id": "75e70187",
   "metadata": {},
   "source": [
    "Chatbot Summery\n",
    "\n",
    "By using bootstrapping to estimate the distribution of the sample means, you can then calculate the standard error and construct a confidence interval that effectively captures the variability and uncertainty associated with your estimate of the population mean. This approach is particularly valuable when the sample size is small or the data does not meet the assumptions of normality.\n",
    "\n",
    "https://chatgpt.com/share/66fdc9f9-0258-8013-acf9-8f2ffb558fa9"
   ]
  },
  {
   "cell_type": "code",
   "execution_count": 3,
   "id": "1e7ceee1",
   "metadata": {},
   "outputs": [],
   "source": [
    "# Q3"
   ]
  },
  {
   "cell_type": "markdown",
   "id": "041e0861",
   "metadata": {},
   "source": [
    "Randomly sample with replacement from the original dataset to create a large number of bootstrap samples. For each bootstrap sample, calculate the mean and compile these means into a list. Then order the bootstrapped means from lowest to highest.Identify the 2.5th percentile and the 97.5th percentile of the sorted bootstrapped means. These percentiles will represent the lower and upper bounds of your 95% confidence interval. In the end, the final confidence interval is given by the range between the 2.5th and 97.5th percentiles of the bootstrapped means."
   ]
  },
  {
   "cell_type": "code",
   "execution_count": 4,
   "id": "629b07de",
   "metadata": {},
   "outputs": [],
   "source": [
    "# Q4"
   ]
  },
  {
   "cell_type": "code",
   "execution_count": 5,
   "id": "b53e2b19",
   "metadata": {},
   "outputs": [],
   "source": [
    "import numpy as np"
   ]
  },
  {
   "cell_type": "code",
   "execution_count": 8,
   "id": "71a2cedb",
   "metadata": {},
   "outputs": [
    {
     "name": "stdout",
     "output_type": "stream",
     "text": [
      "95% Bootstrap Confidence Interval for Mean: (14.797500000000003, 21.8)\n",
      "95% Bootstrap Confidence Interval for Median: (13.5, 22.0)\n"
     ]
    }
   ],
   "source": [
    "import numpy as np\n",
    "\n",
    "def bootstrap_confidence_interval(data, num_bootstraps=1000, confidence_level=0.95, statistic='mean'):\n",
    "    \"\"\"\n",
    "    Calculate bootstrap confidence interval for a given statistic.\n",
    "    \n",
    "    Parameters:\n",
    "    - data: Array-like, the original sample data.\n",
    "    - num_bootstraps: int, the number of bootstrap samples to generate.\n",
    "    - confidence_level: float, the desired confidence level (between 0 and 1).\n",
    "    - statistic: str, the statistic to compute ('mean' or 'median').\n",
    "    \n",
    "    Returns:\n",
    "    - tuple: lower and upper bounds of the confidence interval.\n",
    "    \"\"\"\n",
    "    # Create an array to hold the bootstrap statistics\n",
    "    bootstrapped_stats = np.empty(num_bootstraps)\n",
    "    \n",
    "    # Generate bootstrap samples and calculate the specified statistic\n",
    "    for i in range(num_bootstraps):\n",
    "        sample = np.random.choice(data, size=len(data), replace=True)  # Resample with replacement\n",
    "        if statistic == 'mean':\n",
    "            bootstrapped_stats[i] = np.mean(sample)  # Calculate the mean\n",
    "        elif statistic == 'median':\n",
    "            bootstrapped_stats[i] = np.median(sample)  # Calculate the median\n",
    "        else:\n",
    "            raise ValueError(\"Statistic must be 'mean' or 'median'.\")\n",
    "\n",
    "    # Calculate the lower and upper percentiles for the confidence interval\n",
    "    lower_bound = np.percentile(bootstrapped_stats, (1 - confidence_level) / 2 * 100)\n",
    "    upper_bound = np.percentile(bootstrapped_stats, (1 + confidence_level) / 2 * 100)\n",
    "\n",
    "    return lower_bound, upper_bound\n",
    "\n",
    "# Example usage\n",
    "data = np.array([12, 15, 14, 10, 18, 20, 16, 22, 30, 24])  # Sample data\n",
    "mean_ci = bootstrap_confidence_interval(data, statistic='mean')  # 95% CI for the mean\n",
    "median_ci = bootstrap_confidence_interval(data, statistic='median')  # 95% CI for the median\n",
    "\n",
    "print(\"95% Bootstrap Confidence Interval for Mean:\", mean_ci)\n",
    "print(\"95% Bootstrap Confidence Interval for Median:\", median_ci)\n"
   ]
  },
  {
   "cell_type": "markdown",
   "id": "1e719306",
   "metadata": {},
   "source": [
    "chat bot summary:\n",
    "\n",
    "In our conversation, you asked for Python code to produce a 95% bootstrap confidence interval for a population mean based on a sample. I provided a code example using NumPy, which included comments explaining how to adapt the code for calculating confidence intervals for other statistics, such as the median. The code allows users to specify the statistic they want to analyze (mean, median, etc.) and demonstrates how to implement bootstrap sampling to generate confidence intervals. Additionally, I mentioned how to extend the code to include other statistics, like standard deviation.\n",
    "\n",
    "https://chatgpt.com/share/66fdcfb2-9714-8013-9402-3c1dfe4f34a7"
   ]
  },
  {
   "cell_type": "code",
   "execution_count": 9,
   "id": "266471d9",
   "metadata": {},
   "outputs": [],
   "source": [
    "# Q5"
   ]
  },
  {
   "cell_type": "markdown",
   "id": "65b34b51",
   "metadata": {},
   "source": [
    "Population Parameter is a fixed value that represents a characteristic of the entire population.which is usually unknown. Sample Statistic: This is a value calculated from a sample drawn from the population. It is used to estimate the population parameter. Sample statistics can vary from sample to sample due to random sampling error, while the population parameter remains constant. A confidence interval gives us an estimated range of plausible values for the population parameter. If we do not distinguish between the two, we might misinterpret the interval as representing the variability of the sample rather than the uncertainty about the population parameter.\n",
    "\n",
    "https://chatgpt.com/share/66fdd0db-306c-8013-92fd-0d5e5890fe26"
   ]
  },
  {
   "cell_type": "code",
   "execution_count": 10,
   "id": "7b25e0f5",
   "metadata": {},
   "outputs": [],
   "source": [
    "# 6"
   ]
  },
  {
   "cell_type": "markdown",
   "id": "5db815fd",
   "metadata": {},
   "source": [
    "1. What is the process of bootstrapping?\n",
    "    1. Make a Boostrapped dataset. Each bootstrap sample is created by randomly selecting observations from the original dataset with replacement. This means that some observations may appear multiple times in a bootstrap sample, while others may not appear at all.\n",
    "    2. Calculate something(e.g., mean, median, variance).\n",
    "    3. Repeat the resampling and statistic calculation process many times (often thousands of times) to create a distribution of the statistic.\n",
    "    4. Use the distribution of the bootstrap statistics to estimate properties of the statistic, such as its standard error, confidence intervals, or bias.\n",
    "\n",
    "2. What is the main purpose of bootstrapping?\n",
    "    Estimating Sampling Distributions, calculating confidence intervals for parameters, and conducting hypothesis tests.\n",
    "    \n",
    "3. If you had a (hypothesized) guess about what the average of a population was, and you had a sample of size n from that population, how could you use bootstrapping to assess whether or not your (hypothesized) guess might be plausible?\n",
    "    Collecting the sample first and then calculating the sample mean. Set the null and alternative hypothesis. Using Bootstrap method to calculate Bootstrap Means and Construct the Bootstrap Distribution. After that, assessing the Hypothesized Mean and calculating the p-value.Lastly, by comparing the p-value to a significance level, deciding if it fail to reject null hypothesis."
   ]
  },
  {
   "cell_type": "code",
   "execution_count": 12,
   "id": "d56988e3",
   "metadata": {},
   "outputs": [],
   "source": [
    "# Q8"
   ]
  },
  {
   "cell_type": "markdown",
   "id": "c03f287c",
   "metadata": {},
   "source": [
    "https://jupyter.utoronto.ca/user/hongzhe.liu@mail.utoronto.ca/notebooks/HW/HW%204%20csv%20file.ipynb"
   ]
  }
 ],
 "metadata": {
  "kernelspec": {
   "display_name": "Python 3 (ipykernel)",
   "language": "python",
   "name": "python3"
  },
  "language_info": {
   "codemirror_mode": {
    "name": "ipython",
    "version": 3
   },
   "file_extension": ".py",
   "mimetype": "text/x-python",
   "name": "python",
   "nbconvert_exporter": "python",
   "pygments_lexer": "ipython3",
   "version": "3.11.6"
  }
 },
 "nbformat": 4,
 "nbformat_minor": 5
}
